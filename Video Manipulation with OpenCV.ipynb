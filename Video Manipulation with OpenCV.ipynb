{
 "cells": [
  {
   "cell_type": "markdown",
   "id": "40fb3add",
   "metadata": {},
   "source": [
    "# Description\n",
    "The seventh project in the [Super Data Science](https://www.superdatascience.com/) [Python 3 Masterclass](https://www.superdatascience.com/courses/python-3-programming-beginner-to-pro-masterclass) is manipulation of video using the OpenCV library. In this project, video is captured from the computer's webcam and two different effects are applied. The first effect is to stylize the video similar to the way that a still image was stylized in the second project. The second effect is to do edge detection using Canny Edge Detection. The two modified video streams, as well as the unaltered stream, are displayed until the enter key is pressed."
   ]
  },
  {
   "cell_type": "code",
   "execution_count": 6,
   "id": "0e954478",
   "metadata": {},
   "outputs": [],
   "source": [
    "import matplotlib.image as mpimg\n",
    "import matplotlib.pyplot as plt\n",
    "import numpy as np\n",
    "import cv2"
   ]
  },
  {
   "cell_type": "markdown",
   "id": "7fb8cd1c",
   "metadata": {},
   "source": [
    "Define the functions used to apply the effects to the video stream."
   ]
  },
  {
   "cell_type": "code",
   "execution_count": 7,
   "id": "cb68c4e0",
   "metadata": {},
   "outputs": [],
   "source": [
    "def StylizeImage(color_image, s, r):\n",
    "    output = cv2.stylization(color_image, sigma_s=s, sigma_r=r)\n",
    "    return output\n",
    "\n",
    "def CannyEdgeDetection(color_image, thresholdOne, thresholdTwo):\n",
    "    grey_image = cv2.cvtColor(color_image, cv2.COLOR_BGR2GRAY)\n",
    "    output = cv2.Canny(grey_image, thresholdOne, thresholdTwo)\n",
    "    return output"
   ]
  },
  {
   "cell_type": "markdown",
   "id": "c7ee3c39",
   "metadata": {},
   "source": [
    "Frames are continually captured from the video camera and effects are applied. This process continues until the user presses the Enter key."
   ]
  },
  {
   "cell_type": "code",
   "execution_count": 11,
   "id": "8be61434",
   "metadata": {},
   "outputs": [],
   "source": [
    "video_capture = cv2.VideoCapture(1)\n",
    "\n",
    "while True:\n",
    "    success, frame = video_capture.read()\n",
    "    cv2.imshow('Stylized Video', StylizeImage(frame, 100, 0.3))\n",
    "    cv2.imshow('Edge Detection', CannyEdgeDetection(frame, 30, 80))\n",
    "    cv2.imshow('WebCam Video', frame)\n",
    "    \n",
    "    if cv2.waitKey(1) == 13: # The Enter Key is ASCII code 13.\n",
    "        break\n",
    "\n",
    "video_capture.release()\n",
    "cv2.destroyAllWindows()"
   ]
  }
 ],
 "metadata": {
  "kernelspec": {
   "display_name": "Python 3",
   "language": "python",
   "name": "python3"
  },
  "language_info": {
   "codemirror_mode": {
    "name": "ipython",
    "version": 3
   },
   "file_extension": ".py",
   "mimetype": "text/x-python",
   "name": "python",
   "nbconvert_exporter": "python",
   "pygments_lexer": "ipython3",
   "version": "3.8.8"
  }
 },
 "nbformat": 4,
 "nbformat_minor": 5
}
